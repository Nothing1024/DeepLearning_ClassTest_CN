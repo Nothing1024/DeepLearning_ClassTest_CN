{
 "cells": [
  {
   "cell_type": "markdown",
   "id": "baecd996",
   "metadata": {},
   "source": [
    "# 用神经网络来实现逻辑回归\n",
    "**提示：**\n",
    "- 没有特殊要求不要在代码中使用循环\n",
    "- 遇到点积请使用`np.dpt(X, Y)方法`\n",
    "\n",
    "**这节课你将会学到：**\n",
    "- 建立深度学习算法的通用结构，包括：\n",
    "  - 初始化参数\n",
    "  - 计算代价函数及其参数\n",
    "  - 使用梯度下降优化算法\n",
    "- 将以上方法融合到一个主模型函数"
   ]
  },
  {
   "cell_type": "markdown",
   "id": "4bc5400e",
   "metadata": {},
   "source": [
    "## 目录\n",
    "- [1 - 导包](#1)\n",
    "- [2 - 习题集概览](#2)\n",
    "    - [练习 1](#ex-1)\n",
    "    - [练习 2](#ex-2)\n",
    "- [3 - 学习算法的总体结构](#3)\n",
    "- [4 - 实现算法必要步骤](#4)\n",
    "    - [4.1 - 辅助函数](#4-1)\n",
    "        - [练习 3 - sigmoid函数](#ex-3)\n",
    "    - [4.2 - 初始化参数](#4-2)\n",
    "        - [练习 4 - 初始化0](#ex-4)\n",
    "    - [4.3 - 前向和后向传播n](#4-3)\n",
    "        - [练习 5 - 传播](#ex-5)\n",
    "    - [4.4 - 优化参数](#4-4)\n",
    "        - [练习 6 - 优化](#ex-6)\n",
    "        - [练习 7 - 预测](#ex-7)\n",
    "- [5 - 合并函数到模型](#5)\n",
    "    - [练习 8 - 模型函数](#ex-8)\n",
    "- [6 - 进一步分析 (可选/晋升 练习)](#6)\n",
    "- [7 - 测试用户图片 (可选/晋升 练习)](#7)"
   ]
  },
  {
   "cell_type": "markdown",
   "id": "6acaefeb",
   "metadata": {},
   "source": [
    "<a name='1'></a>\n",
    "## 1 - 导包\n",
    "首先我们先到一些我们整个过程中会用到的包\n",
    "- [numpy](https://numpy.org/doc/1.20/):Python中用于科学计算的基础包\n",
    "- [h5py](http://www.h5py.org)：H5格式数据处理\n",
    "- [matplotlib](http://matplotlib.org)：Python中著名画图库\n",
    "- [PIL](https://pillow.readthedocs.io/en/stable/) 和 [scipy](https://www.scipy.org/) ：用于最后自己图像的测试"
   ]
  },
  {
   "cell_type": "code",
   "execution_count": 1,
   "id": "91062f1d",
   "metadata": {},
   "outputs": [],
   "source": [
    "import numpy as np\n",
    "import copy\n",
    "import matplotlib.pyplot as plt\n",
    "import h5py\n",
    "import scipy\n",
    "from PIL import Image\n",
    "from scipy import ndimage\n",
    "from lr_utils import load_dataset\n",
    "from public_tests import *\n",
    "# 内嵌绘图，可以直接在你的python console里面生成图像，并且可以省略掉plt.show()这一步。\n",
    "%matplotlib inline\n",
    "#在执行用户代码前，重新装入软件的扩展和模块。\n",
    "%load_ext autoreload\n",
    "# 装入所有 %aimport 不包含的模块。\n",
    "%autoreload 2"
   ]
  },
  {
   "cell_type": "markdown",
   "id": "b19c94ae",
   "metadata": {},
   "source": [
    "## 2 - 习题集概览\n",
    "**习题描述**：本测试数据集(\"data.h5\")包含：\n",
    " - 一组已经标记好的图像数据集m_train(是否为猫对应1/0)\n",
    " - 一组已经标记好的图像测试集m_test(是否为猫对应1/0)\n",
    " - 每一张图像的维度是(num_px, num_px, 3)，其中3意味着3通道(RGB通道)，因此，每个图象都是RGB通道的正方形(长=宽=像素数)\n",
    " \n",
    "你将会建立一个简单的图像识别算法，该算法可以识别图像是否为猫\n",
    "\n",
    "让我们先熟悉一下图像数据集，运行以下代码以加载数据集"
   ]
  },
  {
   "cell_type": "code",
   "execution_count": 2,
   "id": "cf9c0987",
   "metadata": {},
   "outputs": [],
   "source": [
    "# 加载数据(是否为猫)\n",
    "train_set_x_orig, train_set_y, test_set_x_orig, test_set_y, classes = load_dataset()"
   ]
  },
  {
   "cell_type": "markdown",
   "id": "e39241da",
   "metadata": {},
   "source": [
    "提示：输入变量末的\"_orig \"下标表示为训练集和测试集的原始输入数据，我们需要将其进行预处理，获取train_set_x和test_set_x(输出相关数据不用处理)\n",
    "\n",
    "你的每一行train_set_x_origin和test_set_x_origin都是表示一张图像的数列，你可以通过运行以下代码进行图片预览操作(`index`可以任意选择)"
   ]
  },
  {
   "cell_type": "code",
   "execution_count": 3,
   "id": "9dfd564c",
   "metadata": {},
   "outputs": [
    {
     "name": "stdout",
     "output_type": "stream",
     "text": [
      "y = [1], it's a 'cat' picture.\n"
     ]
    },
    {
     "data": {
      "image/png": "[encoded data removed]",
      "text/plain": [
       "<Figure size 432x288 with 1 Axes>"
      ]
     },
     "metadata": {
      "needs_background": "light"
     },
     "output_type": "display_data"
    }
   ],
   "source": [
    "# 图片预览\n",
    "# 选择图片索引\n",
    "index = 27\n",
    "# 画图\n",
    "plt.imshow(train_set_x_orig[index])\n",
    "# 画坐标轴\n",
    "print (\"y = \" + str(train_set_y[:, index]) + \", it's a '\" + classes[np.squeeze(train_set_y[:, index])].decode(\"utf-8\") +  \"' picture.\")"
   ]
  },
  {
   "cell_type": "markdown",
   "id": "f03199ca",
   "metadata": {},
   "source": [
    "在深度学习中，很多软件会因为矩阵/维度不符而产生BUG，如果你能让你的矩阵/维度保持正确，那么你会避免很多BUG的发生"
   ]
  },
  {
   "cell_type": "markdown",
   "id": "965179d6",
   "metadata": {},
   "source": [
    "<a name='ex-1'></a>\n",
    "### 练习1\n",
    "\n",
    "找到以下内容的值：\n",
    " - m_train (训练集样本数)\n",
    " - m_test (测试集样本数)\n",
    " - num_px (训练图的像素，也等于长和宽)\n",
    " \n",
    "请记住，`train_set_x_orig`是`shape`为(m_train, num_px, num_px, 3)的numpy数组。\n",
    "\n",
    "你可以通过`train_set_x_orig.shape[0]`来获取`m_train`"
   ]
  },
  {
   "cell_type": "code",
   "execution_count": 4,
   "id": "c746d6af",
   "metadata": {},
   "outputs": [
    {
     "name": "stdout",
     "output_type": "stream",
     "text": [
      "训练集样本数: m_train = 209\n",
      "测试集样本数: m_test = 50\n",
      "每张图片的高/宽: num_px = 64\n",
      "每张图片的大小: (64, 64, 3)\n",
      "train_set_x的shape: (209, 64, 64, 3)\n",
      "train_set_y的shape: (1, 209)\n",
      "test_set_x的shape: (50, 64, 64, 3)\n",
      "test_set_y的shape: (1, 50)\n"
     ]
    }
   ],
   "source": [
    "#(预计 3 行代码实现)\n",
    "# m_train = \n",
    "# m_test = \n",
    "# num_px = \n",
    "# 练习代码区-起始位置\n",
    "\n",
    "\n",
    "\n",
    "# 练习代码区-结束位置\n",
    "\n",
    "print (\"训练集样本数: m_train = \" + str(m_train))\n",
    "print (\"测试集样本数: m_test = \" + str(m_test))\n",
    "print (\"每张图片的高/宽: num_px = \" + str(num_px))\n",
    "print (\"每张图片的大小: (\" + str(num_px) + \", \" + str(num_px) + \", 3)\")\n",
    "print (\"train_set_x的shape: \" + str(train_set_x_orig.shape))\n",
    "print (\"train_set_y的shape: \" + str(train_set_y.shape))\n",
    "print (\"test_set_x的shape: \" + str(test_set_x_orig.shape))\n",
    "print (\"test_set_y的shape: \" + str(test_set_y.shape))"
   ]
  },
  {
   "cell_type": "markdown",
   "id": "d96332f5",
   "metadata": {},
   "source": [
    "**正常情况下，训练集样本数、测试集样本数、图片的长/宽的输出如下**: \n",
    "<table style=\"width:25%\">\n",
    "  <tr>\n",
    "    <td> 训练集样本数 </td>\n",
    "    <td> 209 </td> \n",
    "  </tr>\n",
    "  \n",
    "  <tr>\n",
    "    <td>测试集样本数</td>\n",
    "    <td> 50 </td> \n",
    "  </tr>\n",
    "  \n",
    "  <tr>\n",
    "    <td>图片的长/宽(单位px)</td>\n",
    "    <td> 64 </td> \n",
    "  </tr>\n",
    "  \n",
    "</table>\n"
   ]
  },
  {
   "cell_type": "markdown",
   "id": "fd31341a",
   "metadata": {},
   "source": [
    "为了方便，你应该将`shape`为`(num_px, num_px, 3)`的图像通过`reshape`转换成`shape`为`(num_px * num_px * 3, 1)`的numpy数组，转换后我们的训练集/测试集就变成了numpy数组，其中每一列都代表着一个平整的图像。数据集对应着有`m_train/m_test`列\n",
    "\n",
    "<a name='ex-2'></a>\n",
    "### 练习 2\n",
    "\n",
    "将训练集和测试集的大小从`(num_px, num_px, 3)`展平成单个向量，即`(num_px * num_px * 3, 1)`\n",
    "\n",
    "这里有一个小技巧，如果你想把shape为`(a,b,c,d)`的X矩阵转换成shape为`(b*c*d, a)`的X_flatten矩阵，可以使用\n",
    "\n",
    "```python\n",
    "X_flatten = X.reshape(X.shape[0], -1).T # X.T就是X的转置\n",
    "```\n",
    "#### 解释\n",
    "`X.reshape(X.shape[0] , -1)`意味着将X进行转换，行数为`X.shape[0]`，列数让系统自己算\n",
    "\n",
    "因为矩阵元素数量是a*b*c*d，`X.shape[0]`是a，所以系统补的列数为$$\\frac{a*b*c*d}{a} = b*c*d$$\n",
    "\n",
    "所以`X.reshape(X.shape[0],-1)`后的shape为`(a,b*c*d)`，然后再进行转置获得shape为`(b*c*d,a)`"
   ]
  },
  {
   "cell_type": "code",
   "execution_count": 5,
   "id": "20a43b16",
   "metadata": {},
   "outputs": [
    {
     "name": "stdout",
     "output_type": "stream",
     "text": [
      "train_set_x_flatten shape: (12288, 209)\n",
      "train_set_y shape: (1, 209)\n",
      "test_set_x_flatten shape: (12288, 50)\n",
      "test_set_y shape: (1, 50)\n"
     ]
    }
   ],
   "source": [
    "# Reshape训练集和测试机\n",
    "#(预计 2 行代码实现)\n",
    "# train_set_x_flatten = ...\n",
    "# test_set_x_flatten = ...\n",
    "# 练习代码区-起始位置\n",
    "\n",
    "\n",
    "\n",
    "# 练习代码区-结束位置\n",
    "\n",
    "#检查第二张图的前10个像素是否匹配\n",
    "assert np.alltrue(train_set_x_flatten[0:10, 1] == [196, 192, 190, 193, 186, 182, 188, 179, 174, 213]), \"Wrong solution. Use (X.shape[0], -1).T.\"\n",
    "assert np.alltrue(test_set_x_flatten[0:10, 1] == [115, 110, 111, 137, 129, 129, 155, 146, 145, 159]), \"Wrong solution. Use (X.shape[0], -1).T.\"\n",
    "\n",
    "print (\"train_set_x_flatten shape: \" + str(train_set_x_flatten.shape))\n",
    "print (\"train_set_y shape: \" + str(train_set_y.shape))\n",
    "print (\"test_set_x_flatten shape: \" + str(test_set_x_flatten.shape))\n",
    "print (\"test_set_y shape: \" + str(test_set_y.shape))"
   ]
  },
  {
   "cell_type": "markdown",
   "id": "7969e3fe",
   "metadata": {},
   "source": [
    "**正常情况下的输出**: \n",
    "\n",
    "<table style=\"width:50%\">\n",
    "  <tr>\n",
    "    <td>train_set_x_flatten shape</td>\n",
    "    <td> (12288, 209)</td> \n",
    "  </tr>\n",
    "  <tr>\n",
    "    <td>train_set_y shape</td>\n",
    "    <td>(1, 209)</td> \n",
    "  </tr>\n",
    "  <tr>\n",
    "    <td>test_set_x_flatten shape</td>\n",
    "    <td>(12288, 50)</td> \n",
    "  </tr>\n",
    "  <tr>\n",
    "    <td>test_set_y shape</td>\n",
    "    <td>(1, 50)</td> \n",
    "  </tr>\n",
    "</table>"
   ]
  },
  {
   "cell_type": "markdown",
   "id": "6a0ffcdd",
   "metadata": {},
   "source": [
    "为了表示彩色图像，图片中的每个像素都需要与特定的RGB匹配，所以像素对应的值就是三个范围为0-255的数组成的向量\n",
    "\n",
    "在机器学习中一个常见的预处理步骤就是去集中和标准化你的数据集，也就是让每个样例减去numpy数组的整体平均值，然后让每个样例除标准差\n",
    "\n",
    "但是这对于图像数据集来说就方便多了，我们只需要让每一行除255(元素最大值)就可以了。\n",
    "\n",
    "让我们对数据集进行标准化"
   ]
  },
  {
   "cell_type": "code",
   "execution_count": 6,
   "id": "c6e5df58",
   "metadata": {},
   "outputs": [],
   "source": [
    "train_set_x = train_set_x_flatten / 255.\n",
    "test_set_x = test_set_x_flatten / 255."
   ]
  },
  {
   "cell_type": "markdown",
   "id": "aa3823d0",
   "metadata": {},
   "source": [
    "<font color='blue'>\n",
    "    \n",
    "    \n",
    "**注意:**\n",
    "\n",
    "一般来说，新数据集的预处理的步骤如下:\n",
    "- 找到问题的维度与形状(m_train, m_test, num_px, ...)\n",
    "- Reshape数据集，将其展平为一个向量，每个样本对应的shape为`(num_px \\* num_px \\* 3, 1)`\n",
    "- 标准化数据"
   ]
  },
  {
   "cell_type": "markdown",
   "id": "ae9cf692",
   "metadata": {},
   "source": [
    "<a name='3'></a>\n",
    "## 3 - 学习算法的总体结构 ##\n",
    "\n",
    "是时候去设计一个识别图是否为猫的算法了\n",
    "\n",
    "你将要用神经网络的思想去建立逻辑回归，下图将会解释为什么**逻辑回归就是简单的神经网络!**\n",
    "\n",
    "<img src=\"images/LogReg_kiank.png\" style=\"width:650px;height:400px;\">\n",
    "\n",
    "**算法的数学表达式**:\n",
    "\n",
    "对于每一个样本 $x^{(i)}$:\n",
    "$$z^{(i)} = w^T x^{(i)} + b \\tag{1}$$\n",
    "$$\\hat{y}^{(i)} = a^{(i)} = sigmoid(z^{(i)})\\tag{2}$$ \n",
    "$$ \\mathcal{L}(a^{(i)}, y^{(i)}) =  - y^{(i)}  \\log(a^{(i)}) - (1-y^{(i)} )  \\log(1-a^{(i)})\\tag{3}$$\n",
    "\n",
    "代价函数是借助样本总和进行计算的\n",
    "$$ J = \\frac{1}{m} \\sum_{i=1}^m \\mathcal{L}(a^{(i)}, y^{(i)})\\tag{6}$$\n",
    "\n",
    "**关键步骤**:\n",
    "\n",
    "在这次练习中，你需要实现以下步骤: \n",
    "   - 初始化模型参数\n",
    "   - 通过让代价函数值最小化来学习模型参数  \n",
    "   - 用学习后的参数来(对测试集)做预测\n",
    "   - 分析结果得出结论"
   ]
  },
  {
   "cell_type": "markdown",
   "id": "8cb16d7c",
   "metadata": {},
   "source": [
    "<a name='4'></a>\n",
    "## 4 - 实现算法必要步骤 ## \n",
    "\n",
    "搭建神经网络的主要步骤有:\n",
    "1. 定义模型结构(比如输入特征的数量)\n",
    "2. 初始化模型参数\n",
    "3. 循环操作:\n",
    "    - 前向传播：计算损失函数(这里用的是loss，我认为应该是cost，存疑)\n",
    "    - 后向传播：计算当前梯度\n",
    "    - 梯度下降：更新参数\n",
    "\n",
    "你经常会分开实现1-3步并将其合并到一个整体模型函数`model()`\n",
    "\n",
    "<a name='4-1'></a>\n",
    "### 4.1 - 辅助函数\n",
    "\n",
    "<a name='ex-3'></a>\n",
    "### 练习 3 - sigmoid函数\n",
    "使用Python基础实现`sigmoid()`函数，正如上图所示，你需要实现`sigmoid()`函数，即\n",
    "\n",
    "$$sigmoid(z) = \\frac{1}{1+e^{-z}}$$\n",
    "\n",
    "其中$$z = w^T x + b$$\n",
    "\n",
    "小提示:实现$e^{z}$可以借助`np.exp(z)`函数"
   ]
  },
  {
   "cell_type": "code",
   "execution_count": 7,
   "id": "f46c1619",
   "metadata": {},
   "outputs": [],
   "source": [
    "# 分级函数: sigmoid\n",
    "\n",
    "def sigmoid(z):\n",
    "    \"\"\"\n",
    "    计算z对应的sigmoid函数值\n",
    "\n",
    "    Arguments:\n",
    "    z -- 一个表标量或任意大小的numpy数组\n",
    "\n",
    "    Return:\n",
    "    s -- sigmoid(z)\n",
    "    \"\"\"\n",
    "\n",
    "    #(预计 1 行代码实现)\n",
    "    # s = ...\n",
    "    # 练习代码区-起始位置\n",
    "    \n",
    "  \n",
    "    \n",
    "    # 练习代码区-结束位置\n",
    "    \n",
    "    return s"
   ]
  },
  {
   "cell_type": "code",
   "execution_count": 8,
   "id": "8efc3aa1",
   "metadata": {},
   "outputs": [
    {
     "name": "stdout",
     "output_type": "stream",
     "text": [
      "sigmoid([0, 2]) = [0.5        0.88079708]\n",
      "\u001b[92m测试全部通过!\n"
     ]
    }
   ],
   "source": [
    "print (\"sigmoid([0, 2]) = \" + str(sigmoid(np.array([0,2]))))\n",
    "\n",
    "sigmoid_test(sigmoid)"
   ]
  },
  {
   "cell_type": "code",
   "execution_count": 9,
   "id": "956a49d2",
   "metadata": {},
   "outputs": [
    {
     "name": "stdout",
     "output_type": "stream",
     "text": [
      "[0.62245933 0.5        0.88079708]\n"
     ]
    }
   ],
   "source": [
    "x = np.array([0.5, 0, 2.0])\n",
    "output = sigmoid(x)\n",
    "print(output)"
   ]
  },
  {
   "cell_type": "markdown",
   "id": "f51ecc53",
   "metadata": {},
   "source": [
    "<a name='4-2'></a>\n",
    "### 4.2 - 初始化参数\n",
    "\n",
    "<a name='ex-4'></a>\n",
    "### 练习 4 - 初始化0\n",
    "\n",
    "在练习中实现参数初始化，你必须要把w初始化为全0向量\n",
    "\n",
    "如果你不清楚该做什么，可以搜索`np.zeros()`函数"
   ]
  },
  {
   "cell_type": "code",
   "execution_count": 10,
   "id": "40be8de6",
   "metadata": {},
   "outputs": [],
   "source": [
    "# 分级函数: 初始化0\n",
    "\n",
    "def initialize_with_zeros(dim):\n",
    "    \"\"\"\n",
    "    这个函数就是创建大小为(dim, 1)的0矩阵，并且初始化b为0\n",
    "    \n",
    "    Argument:\n",
    "    dim -- w向量期望的大小(或者是在这种情况下的参数数量) \n",
    "    \n",
    "    Returns:\n",
    "    w -- 初始化后的向量，大小为(dim, 1)\n",
    "    b -- 初始化后的浮点数标量(对应着偏差)\n",
    "    \"\"\"\n",
    "    \n",
    "    # (预计 2 行代码实现)\n",
    "    # w = ...\n",
    "    # b = ...\n",
    "    # 练习代码区-起始位置\n",
    "    \n",
    "\n",
    "    \n",
    "    # 练习代码区-结束位置\n",
    "\n",
    "    return w, b"
   ]
  },
  {
   "cell_type": "code",
   "execution_count": 11,
   "id": "b544d781",
   "metadata": {},
   "outputs": [
    {
     "name": "stdout",
     "output_type": "stream",
     "text": [
      "w = [[0.]\n",
      " [0.]]\n",
      "b = 0.0\n",
      "\u001b[92m测试全部通过!\n"
     ]
    }
   ],
   "source": [
    "dim = 2\n",
    "w, b = initialize_with_zeros(dim)\n",
    "\n",
    "assert type(b) == float\n",
    "print (\"w = \" + str(w))\n",
    "print (\"b = \" + str(b))\n",
    "\n",
    "initialize_with_zeros_test(initialize_with_zeros)"
   ]
  },
  {
   "cell_type": "markdown",
   "id": "881af255",
   "metadata": {},
   "source": [
    "<a name='4-3'></a>\n",
    "### 4.3 - 前向和后向传播\n",
    "\n",
    "现在你的函数都初始化成功，你可以通过**前向传播**和**后向传播**来学习参数了\n",
    "\n",
    "<a name='ex-5'></a>\n",
    "### 练习 5 - 传播\n",
    "实现`propagate()`函数，该函数用来计算代价函数和它的梯度\n",
    "\n",
    "**提示**:\n",
    "\n",
    "前向传播的步骤:\n",
    "- 得到X\n",
    "- 计算 $A = \\sigma(w^T X + b) = (a^{(1)}, a^{(2)}, ..., a^{(m-1)}, a^{(m)})$\n",
    "- 计算代价函数: $J = -\\frac{1}{m}\\sum_{i=1}^{m}(y^{(i)}\\log(a^{(i)})+(1-y^{(i)})\\log(1-a^{(i)}))$\n",
    "\n",
    "这里有两个会用到的函数: \n",
    "\n",
    "$$ \\frac{\\partial J}{\\partial w} = \\frac{1}{m}X(A-Y)^T\\tag{7}$$\n",
    "$$ \\frac{\\partial J}{\\partial b} = \\frac{1}{m} \\sum_{i=1}^m (a^{(i)}-y^{(i)})\\tag{8}$$"
   ]
  },
  {
   "cell_type": "code",
   "execution_count": 12,
   "id": "7c86d8ae",
   "metadata": {},
   "outputs": [],
   "source": [
    "# 分级函数: 传播\n",
    "\n",
    "def propagate(w, b, X, Y):\n",
    "    \"\"\"\n",
    "    根据刚才解释的先后向传播实现代价函数和对应梯度\n",
    "\n",
    "    Arguments:\n",
    "    w -- weights, numpy数组，大小为 (num_px * num_px * 3, 1)\n",
    "    b -- bias, 偏移量，一个标量\n",
    "    X -- 输入数据 大小为(num_px * num_px * 3, number of examples)\n",
    "    Y -- 标记输出向量(是否为猫对应1/0)，大小为(1, number of examples)\n",
    "\n",
    "    Return:\n",
    "    cost -- 逻辑回归的代价函数\n",
    "    dw -- w相关的损失梯度，因此也和w的shape相同\n",
    "    db -- b相关的损失梯度，因此也和b的shape相同\n",
    "    \n",
    "    Tips:\n",
    "    - 一步一步实现前向传播. np.log(), np.dot()\n",
    "    - 7月23号public_test.py中的propagate_test()函数出现错误，7月24号已经修复，请注意版本问题\n",
    "    \"\"\"\n",
    "    \n",
    "    m = X.shape[1]\n",
    "    \n",
    "    # 前向传播 (从X到代价函数)\n",
    "    #(预计 2 行代码实现)\n",
    "    # 计算激活函数\n",
    "    # A = ...\n",
    "    # 计算代价函数(注意要用np.dot. 别用循环求总数)\n",
    "    # cost = ...                                \n",
    "    # 练习代码区-起始位置\n",
    "    \n",
    "\n",
    "    \n",
    "    # 练习代码区-结束位置\n",
    "\n",
    "    # 后向传播 (找梯度)\n",
    "    #(预计 2 行代码实现)\n",
    "    # dw = ...\n",
    "    # db = ...\n",
    "    # 练习代码区-起始位置\n",
    "    \n",
    "\n",
    "    \n",
    "    # 练习代码区-结束位置\n",
    "    cost = np.squeeze(np.array(cost))\n",
    "\n",
    "    \n",
    "    grads = {\"dw\": dw,\n",
    "             \"db\": db}\n",
    "    \n",
    "    return grads, cost"
   ]
  },
  {
   "cell_type": "code",
   "execution_count": 13,
   "id": "3582f2ee",
   "metadata": {},
   "outputs": [
    {
     "name": "stdout",
     "output_type": "stream",
     "text": [
      "dw = [[-0.00154399]\n",
      " [-0.00492761]]\n",
      "db = 0.0014555781367842193\n",
      "cost = 0.0015453193941501516\n",
      "\u001b[92m测试全部通过!\n"
     ]
    }
   ],
   "source": [
    "w =  np.array([[1.], [2.]])\n",
    "b = 2.\n",
    "X =np.array([[1., 2., -1.], [3., 4., -3.2]])\n",
    "Y = np.array([[1, 1, 0]])\n",
    "grads, cost = propagate(w, b, X, Y)\n",
    "\n",
    "assert type(grads[\"dw\"]) == np.ndarray\n",
    "assert grads[\"dw\"].shape == (2, 1)\n",
    "assert type(grads[\"db\"]) == np.float64\n",
    "\n",
    "\n",
    "print (\"dw = \" + str(grads[\"dw\"]))\n",
    "print (\"db = \" + str(grads[\"db\"]))\n",
    "print (\"cost = \" + str(cost))\n",
    "\n",
    "propagate_test(propagate)"
   ]
  },
  {
   "cell_type": "markdown",
   "id": "d35f0583",
   "metadata": {},
   "source": [
    "**期望输出**\n",
    "\n",
    "```\n",
    "dw = [[0.99845601]\n",
    " [2.39507239]]\n",
    "db = 0.001455578136784208\n",
    "cost = 5.801545319394553\n",
    "```"
   ]
  },
  {
   "cell_type": "markdown",
   "id": "6b342121",
   "metadata": {},
   "source": [
    "<a name='4-4'></a>\n",
    "### 4.4 - 优化参数\n",
    "- 目前你已经初始化了相关参数\n",
    "- 你现在也能够去计算代价函数和它对应的梯度了\n",
    "- 现在你该用梯度下降来更新参数了\n",
    "\n",
    "<a name='ex-6'></a>\n",
    "### 练习 6 - 优化\n",
    "完成优化函数. 调整$w$和$b$来让代价函数$J$降到最小值. \n",
    "\n",
    "梯度下降参数$\\theta$调整：, $ \\theta = \\theta - \\alpha \\text{ } d\\theta$, 其中$\\alpha$是学习率"
   ]
  },
  {
   "cell_type": "code",
   "execution_count": 14,
   "id": "d6e588f6",
   "metadata": {},
   "outputs": [],
   "source": [
    "# 分级函数: 优化\n",
    "\n",
    "def optimize(w, b, X, Y, num_iterations=100, learning_rate=0.009, print_cost=False):\n",
    "    \"\"\"\n",
    "    \n",
    "    通过调整 w 和 b 来实现梯度下降算法\n",
    "    \n",
    "    Arguments:\n",
    "    w -- weights, numpy数组，大小为 (num_px * num_px * 3, 1)\n",
    "    b -- bias, 偏移量，一个标量\n",
    "    X -- 输入数据 大小为(num_px * num_px * 3, number of examples)\n",
    "    Y -- 标记输出向量(是否为猫对应1/0)，大小为(1, number of examples)\n",
    "    num_iterations -- 循环迭代次数\n",
    "    learning_rate -- 梯度下降时用到的学习率\n",
    "    print_cost -- 若为真，则每100步输出一次损失函数\n",
    "    \n",
    "    Returns:\n",
    "    params -- 字典，包含 weights w and bias b\n",
    "    grads -- 字典，记录了梯度(dw 和 db) \n",
    "    costs -- 列表，记录了优化过程中的代价函数值，常被用来画学习曲线\n",
    "    \n",
    "    提示:\n",
    "    一般你需要写下这两步然后进行循环：\n",
    "        1) 用propagate()函数计算现在参数对应的代价函数值以及对应的梯度\n",
    "        2) 通过梯度下降更新参数w和b\n",
    "        \n",
    "    \"\"\"\n",
    "    \n",
    "    w = copy.deepcopy(w)\n",
    "    b = copy.deepcopy(b)\n",
    "    \n",
    "    costs = []\n",
    "    \n",
    "    for i in range(num_iterations):\n",
    "        # (预计 1 行代码实现)\n",
    "        # 代价函数和梯度计算\n",
    "        # grads, cost = ...\n",
    "        # 练习代码区-起始位置\n",
    "        \n",
    "\n",
    "        \n",
    "        # 练习代码区-结束位置\n",
    "        \n",
    "        # 获取梯度中对应的导数值\n",
    "        dw = grads[\"dw\"]\n",
    "        db = grads[\"db\"]\n",
    "        \n",
    "        # 更新参数 (≈ 2 lines of code)\n",
    "        # w = ...\n",
    "        # b = ...\n",
    "        # 练习代码区-起始位置\n",
    "        \n",
    "\n",
    "        \n",
    "        # 练习代码区-结束位置\n",
    "        \n",
    "        # 记录代价\n",
    "        if i % 100 == 0:\n",
    "            costs.append(cost)\n",
    "        \n",
    "            # 每100次训练输出一次代价函数值\n",
    "            if print_cost:\n",
    "                print (\"迭代 %i 次的代价值: %f\" %(i, cost))\n",
    "    \n",
    "    params = {\"w\": w,\n",
    "              \"b\": b}\n",
    "    \n",
    "    grads = {\"dw\": dw,\n",
    "             \"db\": db}\n",
    "    \n",
    "    return params, grads, costs"
   ]
  },
  {
   "cell_type": "code",
   "execution_count": 15,
   "id": "f94dd2e3",
   "metadata": {},
   "outputs": [
    {
     "name": "stdout",
     "output_type": "stream",
     "text": [
      "w = [[1.0013782 ]\n",
      " [2.00439852]]\n",
      "b = 1.9987008247282243\n",
      "dw = [[-0.00151883]\n",
      " [-0.0048473 ]]\n",
      "db = 0.0014316083483715582\n",
      "Costs = [array(0.00154532)]\n",
      "\u001b[92m测试全部通过!\n"
     ]
    }
   ],
   "source": [
    "params, grads, costs = optimize(w, b, X, Y, num_iterations=100, learning_rate=0.009, print_cost=False)\n",
    "\n",
    "print (\"w = \" + str(params[\"w\"]))\n",
    "print (\"b = \" + str(params[\"b\"]))\n",
    "print (\"dw = \" + str(grads[\"dw\"]))\n",
    "print (\"db = \" + str(grads[\"db\"]))\n",
    "print(\"Costs = \" + str(costs))\n",
    "\n",
    "optimize_test(optimize)"
   ]
  },
  {
   "cell_type": "markdown",
   "id": "74567611",
   "metadata": {},
   "source": [
    "<a name='ex-7'></a>\n",
    "### 练习 7 - 预测\n",
    "刚才的函数将会让我们获得学习后的w和b,我们现在能够用w和b去对我们的输入数据集进行预测。\n",
    "实现`predict()`函数. 该函数需要你实现这两步:\n",
    "\n",
    "1. 计算 $\\hat{Y} = A = \\sigma(w^T X + b)$\n",
    "\n",
    "2. 将结果转换成 0 (若激活值 <= 0.5) 或 1 (若激活值 > 0.5), 将预测结果存储到'Y_prediction'向量（你想用`if/else`的话也可以，但不是很建议）\n"
   ]
  },
  {
   "cell_type": "code",
   "execution_count": 16,
   "id": "2f750efb",
   "metadata": {},
   "outputs": [],
   "source": [
    "# 分级函数: 预测\n",
    "\n",
    "def predict(w, b, X):\n",
    "    '''\n",
    "    借助学习好的参数(w, b)来预测结果是0还是1\n",
    "    \n",
    "    Arguments:\n",
    "    w -- weights, numpy数组，大小为 (num_px * num_px * 3, 1)\n",
    "    b -- bias, 偏移量，一个标量\n",
    "    X -- 输入数据 大小为(num_px * num_px * 3, number of examples)\n",
    "    \n",
    "    Returns:\n",
    "    Y_prediction -- numpy数组(向量)，它包含输入数据X对应的0/1预测值\n",
    "    '''\n",
    "    \n",
    "    m = X.shape[1]\n",
    "    Y_prediction = np.zeros((1, m))\n",
    "    w = w.reshape(X.shape[0], 1)\n",
    "    \n",
    "    # 计算向量A来预测图像是否为猫的可能性\n",
    "    #(预计 1 行代码实现)\n",
    "    # A = ...\n",
    "    # 练习代码区-起始位置\n",
    "    \n",
    "    \n",
    "    \n",
    "    # 练习代码区-结束位置\n",
    "    \n",
    "    for i in range(A.shape[1]):\n",
    "        \n",
    "        # 将可能性A[0,i]转换为实际预测p[0,i]\n",
    "        \n",
    "        #方法1：(预计 1 行代码实现)  \n",
    "        #方法2：(预计 4 行代码实现)\n",
    "\n",
    "        # 练习代码区-起始位置\n",
    "        \n",
    "\n",
    "        \n",
    "        # 练习代码区-结束位置\n",
    "    \n",
    "    return Y_prediction"
   ]
  },
  {
   "cell_type": "code",
   "execution_count": 17,
   "id": "e4a8a5e4",
   "metadata": {},
   "outputs": [
    {
     "name": "stdout",
     "output_type": "stream",
     "text": [
      "predictions = [[1. 1. 0.]]\n",
      "\u001b[92m测试全部通过!\n"
     ]
    }
   ],
   "source": [
    "w = np.array([[0.1124579], [0.23106775]])\n",
    "b = -0.3\n",
    "X = np.array([[1., -1.1, -3.2],[1.2, 2., 0.1]])\n",
    "print (\"predictions = \" + str(predict(w, b, X)))\n",
    "\n",
    "predict_test(predict)"
   ]
  },
  {
   "cell_type": "markdown",
   "id": "897616a7",
   "metadata": {},
   "source": [
    "<font color='blue'>\n",
    "    \n",
    "**你要记住的是:**\n",
    "    \n",
    "你已经实现了以下函数:\n",
    "- 初始化(w,b)\n",
    "- 通过迭代学习(w,b)优化了损失函数值:\n",
    "    - 计算对应的代价函数值和梯度\n",
    "    - 通过梯度下降来更新参数\n",
    "- 用学习好的(w,b)来预测之前的输入样本对应的结果"
   ]
  },
  {
   "cell_type": "markdown",
   "id": "551df324",
   "metadata": {},
   "source": [
    "<a name='5'></a>\n",
    "## 5 - 合并函数到模型 ##\n",
    "\n",
    "现在我们已经都实现了模型整体上所需要的函数，现在我们开始将其进行合并。\n",
    "\n",
    "\n",
    "<a name='ex-8'></a>\n",
    "### 练习 8 - 模型函数\n",
    "\n",
    "我们开始实现model()函数，这里我们会用到：\n",
    " - Y_prediction_test ：测试集预测值 \n",
    " - Y_prediction_train ：训练集预测值\n",
    " - 我们从optimize()函数获取到的参数，梯度，以及代价函数值"
   ]
  },
  {
   "cell_type": "code",
   "execution_count": 18,
   "id": "d2b6c678",
   "metadata": {},
   "outputs": [],
   "source": [
    "# 分级函数: 模型函数\n",
    "\n",
    "def model(X_train, Y_train, X_test, Y_test, num_iterations=2000, learning_rate=0.5, print_cost=False):\n",
    "    \"\"\"\n",
    "    通过调用刚才我们实现的辅助函数来建立逻辑回归模型\n",
    "    \n",
    "    Arguments:\n",
    "    X_train -- 训练集输入数据，用numpy数组表示，shape为(num_px * num_px * 3, m_train)\n",
    "    Y_train -- 训练集输出数据，用numpy数组表示(或者是一个向量)，shape为(1, m_train)\n",
    "    X_test -- 测试集输入数据，用numpy数组表示，shape为(num_px * num_px * 3, m_test)\n",
    "    Y_test -- 测试集输出数据，用numpy数组表示，shape为(1, m_test)\n",
    "    num_iterations -- 超参数，表示优化参数时的迭代次数\n",
    "    learning_rate -- 超参数，表示优化参数时的学习率\n",
    "    print_cost -- 若为真，则每100步输出一次损失函数\n",
    "    \n",
    "    Returns:\n",
    "    d -- 字典，包含模型相关数据\n",
    "    \"\"\"\n",
    "    # (预计 1 行代码实现)   \n",
    "    # 0初始化参数\n",
    "    # w, b = ...\n",
    "    \n",
    "    \n",
    "    #(预计 1 行代码实现)\n",
    "    # 梯度下降\n",
    "    # params, grads, costs = ...\n",
    "    \n",
    "    # 从字典\"params\"中获取w和b\n",
    "    # w = ...\n",
    "    # b = ...\n",
    "    \n",
    "    # 预测测试集/训练集数据(预计 2 行代码实现)\n",
    "    # Y_prediction_test = ...\n",
    "    # Y_prediction_train = ...\n",
    "    \n",
    "    # 练习代码区-起始位置\n",
    "    \n",
    "\n",
    "    \n",
    "    # 练习代码区-结束位置\n",
    "\n",
    "    # 输出训练集/测试集误差\n",
    "    if print_cost:\n",
    "        print(\"训练集准确率: {} %\".format(100 - np.mean(np.abs(Y_prediction_train - Y_train)) * 100))\n",
    "        print(\"测试集准确率: {} %\".format(100 - np.mean(np.abs(Y_prediction_test - Y_test)) * 100))\n",
    "\n",
    "    \n",
    "    d = {\"costs\": costs,\n",
    "         \"Y_prediction_test\": Y_prediction_test, \n",
    "         \"Y_prediction_train\" : Y_prediction_train, \n",
    "         \"w\" : w, \n",
    "         \"b\" : b,\n",
    "         \"learning_rate\" : learning_rate,\n",
    "         \"num_iterations\": num_iterations}\n",
    "    \n",
    "    return d"
   ]
  },
  {
   "cell_type": "code",
   "execution_count": 19,
   "id": "b3b0d14c",
   "metadata": {},
   "outputs": [
    {
     "name": "stdout",
     "output_type": "stream",
     "text": [
      "\u001b[92m测试全部通过!\n"
     ]
    }
   ],
   "source": [
    "model_test(model)"
   ]
  },
  {
   "cell_type": "markdown",
   "id": "c98794dd",
   "metadata": {},
   "source": [
    "如果以上测试全部通过，那么我就可以开始训练模型了，请运行以下代码训练你的模型"
   ]
  },
  {
   "cell_type": "code",
   "execution_count": 20,
   "id": "8393d394",
   "metadata": {},
   "outputs": [
    {
     "name": "stdout",
     "output_type": "stream",
     "text": [
      "迭代 0 次的代价值: 0.693147\n",
      "迭代 100 次的代价值: 0.584508\n",
      "迭代 200 次的代价值: 0.466949\n",
      "迭代 300 次的代价值: 0.376007\n",
      "迭代 400 次的代价值: 0.331463\n",
      "迭代 500 次的代价值: 0.303273\n",
      "迭代 600 次的代价值: 0.279880\n",
      "迭代 700 次的代价值: 0.260042\n",
      "迭代 800 次的代价值: 0.242941\n",
      "迭代 900 次的代价值: 0.228004\n",
      "迭代 1000 次的代价值: 0.214820\n",
      "迭代 1100 次的代价值: 0.203078\n",
      "迭代 1200 次的代价值: 0.192544\n",
      "迭代 1300 次的代价值: 0.183033\n",
      "迭代 1400 次的代价值: 0.174399\n",
      "迭代 1500 次的代价值: 0.166521\n",
      "迭代 1600 次的代价值: 0.159305\n",
      "迭代 1700 次的代价值: 0.152667\n",
      "迭代 1800 次的代价值: 0.146542\n",
      "迭代 1900 次的代价值: 0.140872\n",
      "训练集准确率: 99.04306220095694 %\n",
      "测试集准确率: 70.0 %\n"
     ]
    }
   ],
   "source": [
    "logistic_regression_model = model(train_set_x, train_set_y, test_set_x, test_set_y, num_iterations=2000, learning_rate=0.005, print_cost=True)"
   ]
  },
  {
   "cell_type": "markdown",
   "id": "4096a61d",
   "metadata": {},
   "source": [
    "#### 结论\n",
    "我们可以从上面看到：\n",
    "\n",
    "训练集的准确率接近100%，这意味着你的模型对训练数据集来说是高可用的，这非常好！\n",
    "测试集的准确率为70%，考虑到我们的数据集太少，而且我们的逻辑回归用的是线性分类器，所以这对于简单模型来说也还行。不过不用担心，你会在下周建立更好的分类器！\n",
    "\n",
    "此外，你也看到了这个模型过度对训练数据过拟合了，之后你会学习到如何减少过拟合(比如用正则化)\n",
    "\n",
    "在本专门化的后面，您将学习如何减少过拟合，例如使用正则化。使用下面的代码(并更改“index”变量)，您可以查看测试集图片的预测。\n",
    "\n",
    "你可以通过运行下面的代码，你可以根据`index`变量来查看图片对应的预测"
   ]
  },
  {
   "cell_type": "code",
   "execution_count": 21,
   "id": "496a7934",
   "metadata": {},
   "outputs": [
    {
     "name": "stdout",
     "output_type": "stream",
     "text": [
      "y = 1, you predicted that it is a \"cat\" picture.\n"
     ]
    },
    {
     "data": {
      "image/png": "[encoded data removed]",
      "text/plain": [
       "<Figure size 432x288 with 1 Axes>"
      ]
     },
     "metadata": {
      "needs_background": "light"
     },
     "output_type": "display_data"
    }
   ],
   "source": [
    "# 错误分类器的图片示例(也就是说它可能不准)\n",
    "index = 1\n",
    "plt.imshow(test_set_x[:, index].reshape((num_px, num_px, 3)))\n",
    "print (\"y = \" + str(test_set_y[0,index]) + \", you predicted that it is a \\\"\" + classes[int(logistic_regression_model['Y_prediction_test'][0,index])].decode(\"utf-8\") +  \"\\\" picture.\")"
   ]
  },
  {
   "cell_type": "markdown",
   "id": "46c6c38f",
   "metadata": {},
   "source": [
    "\n",
    "我们画一下 代价函数值-迭代次数 曲线"
   ]
  },
  {
   "cell_type": "code",
   "execution_count": 22,
   "id": "315a31b0",
   "metadata": {},
   "outputs": [
    {
     "data": {
      "image/png": "[encoded data removed]",
      "text/plain": [
       "<Figure size 432x288 with 1 Axes>"
      ]
     },
     "metadata": {
      "needs_background": "light"
     },
     "output_type": "display_data"
    }
   ],
   "source": [
    "# 绘制学习曲线 (借助代价值)\n",
    "costs = np.squeeze(logistic_regression_model['costs'])\n",
    "plt.plot(costs)\n",
    "plt.ylabel('cost')\n",
    "plt.xlabel('iterations (per hundreds)')\n",
    "plt.title(\"Learning rate =\" + str(logistic_regression_model[\"learning_rate\"]))\n",
    "plt.show()"
   ]
  },
  {
   "cell_type": "markdown",
   "id": "b495442b",
   "metadata": {},
   "source": [
    "**提示**:\n",
    "\n",
    "从这图你现在能看到代价值下降了，这也意味着我们的参数在学习过程中进行了调整\n",
    "\n",
    "然而你现在训练模型更侧重在训练集上。试着在原代码的基础上减少迭代次数并重新运行。\n",
    "\n",
    "你可能会发现训练集精度会更高，而测试集精度会更低，这就是过拟合。"
   ]
  },
  {
   "cell_type": "markdown",
   "id": "14a5fd67",
   "metadata": {},
   "source": [
    "<a name='6'></a>\n",
    "## 6 - 进一步分析 (可选/晋升 练习) ##\n",
    "\n",
    "祝贺你搭建了第一个图像分类模型！\n",
    "\n",
    "现在让我们进一步分析，探究一下学习率$\\alpha$的选择吧"
   ]
  },
  {
   "cell_type": "markdown",
   "id": "bf122cc6",
   "metadata": {},
   "source": [
    "#### 学习率的选择 ####\n",
    "\n",
    "**提示**:\n",
    "为了更好的进行梯度下降，你必须要明智的选择学习率，学习率决定了我们学习过程中更新参数的快慢。\n",
    "\n",
    "- 如果学习率太大，容易越过最优解\n",
    "- 如果学习率太小，迭代又很慢\n",
    "\n",
    "所以选择一个学习率是非常重要的。\n",
    "\n",
    "我们来比较一下不同学习率对应的学习曲线变化情况。请运行以下代码(大概会花费1分钟)。\n",
    "\n",
    "然后随便选择学习率，看看会发生什么变化"
   ]
  },
  {
   "cell_type": "code",
   "execution_count": 23,
   "id": "e8bffe3a",
   "metadata": {},
   "outputs": [
    {
     "name": "stdout",
     "output_type": "stream",
     "text": [
      "训练模型所用学习率：0.01\n",
      "\n",
      "-------------------------------------------------------\n",
      "\n",
      "训练模型所用学习率：0.001\n",
      "\n",
      "-------------------------------------------------------\n",
      "\n",
      "训练模型所用学习率：0.0001\n",
      "\n",
      "-------------------------------------------------------\n",
      "\n"
     ]
    },
    {
     "data": {
      "image/png": "[encoded data removed]",
      "text/plain": [
       "<Figure size 432x288 with 1 Axes>"
      ]
     },
     "metadata": {
      "needs_background": "light"
     },
     "output_type": "display_data"
    }
   ],
   "source": [
    "learning_rates = [0.01, 0.001, 0.0001,]\n",
    "models = {}\n",
    "\n",
    "for lr in learning_rates:\n",
    "    print (\"训练模型所用学习率：\" + str(lr))\n",
    "    models[str(lr)] = model(train_set_x, train_set_y, test_set_x, test_set_y, num_iterations=1500, learning_rate=lr, print_cost=False)\n",
    "    print ('\\n' + \"-------------------------------------------------------\" + '\\n')\n",
    "\n",
    "for lr in learning_rates:\n",
    "    plt.plot(np.squeeze(models[str(lr)][\"costs\"]), label=str(models[str(lr)][\"learning_rate\"]))\n",
    "\n",
    "plt.ylabel('cost')\n",
    "plt.xlabel('iterations (hundreds)')\n",
    "\n",
    "legend = plt.legend(loc='upper center', shadow=True)\n",
    "frame = legend.get_frame()\n",
    "frame.set_facecolor('0.90')\n",
    "plt.show()"
   ]
  },
  {
   "cell_type": "code",
   "execution_count": 24,
   "id": "638804fc",
   "metadata": {},
   "outputs": [
    {
     "name": "stdout",
     "output_type": "stream",
     "text": [
      "训练模型所用学习率：0.01\n",
      "\n",
      "-------------------------------------------------------\n",
      "\n",
      "训练模型所用学习率：0.001\n",
      "\n",
      "-------------------------------------------------------\n",
      "\n",
      "训练模型所用学习率：0.0001\n",
      "\n",
      "-------------------------------------------------------\n",
      "\n",
      "训练模型所用学习率：1e-07\n",
      "\n",
      "-------------------------------------------------------\n",
      "\n",
      "训练模型所用学习率：1e-05\n",
      "\n",
      "-------------------------------------------------------\n",
      "\n"
     ]
    },
    {
     "data": {
      "image/png": "[encoded data removed]",
      "text/plain": [
       "<Figure size 432x288 with 1 Axes>"
      ]
     },
     "metadata": {
      "needs_background": "light"
     },
     "output_type": "display_data"
    }
   ],
   "source": [
    "learning_rates = [0.01, 0.001, 0.0001,0.0000001,0.00001]\n",
    "models = {}\n",
    "\n",
    "for lr in learning_rates:\n",
    "    print (\"训练模型所用学习率：\" + str(lr))\n",
    "    models[str(lr)] = model(train_set_x, train_set_y, test_set_x, test_set_y, num_iterations=1500, learning_rate=lr, print_cost=False)\n",
    "    print ('\\n' + \"-------------------------------------------------------\" + '\\n')\n",
    "\n",
    "for lr in learning_rates:\n",
    "    plt.plot(np.squeeze(models[str(lr)][\"costs\"]), label=str(models[str(lr)][\"learning_rate\"]))\n",
    "\n",
    "plt.ylabel('cost')\n",
    "plt.xlabel('iterations (hundreds)')\n",
    "\n",
    "legend = plt.legend(loc='upper center', shadow=True)\n",
    "frame = legend.get_frame()\n",
    "frame.set_facecolor('0.90')\n",
    "plt.show()"
   ]
  },
  {
   "cell_type": "code",
   "execution_count": 25,
   "id": "56a8cecc",
   "metadata": {},
   "outputs": [
    {
     "name": "stdout",
     "output_type": "stream",
     "text": [
      "训练模型所用学习率：0.01\n",
      "\n",
      "-------------------------------------------------------\n",
      "\n",
      "训练模型所用学习率：0.001\n",
      "\n",
      "-------------------------------------------------------\n",
      "\n",
      "训练模型所用学习率：0.0001\n",
      "\n",
      "-------------------------------------------------------\n",
      "\n",
      "训练模型所用学习率：1e-07\n",
      "\n",
      "-------------------------------------------------------\n",
      "\n",
      "训练模型所用学习率：1e-05\n",
      "\n",
      "-------------------------------------------------------\n",
      "\n"
     ]
    },
    {
     "data": {
      "image/png": "[encoded data removed]",
      "text/plain": [
       "<Figure size 432x288 with 1 Axes>"
      ]
     },
     "metadata": {
      "needs_background": "light"
     },
     "output_type": "display_data"
    }
   ],
   "source": [
    "learning_rates = [0.01, 0.001, 0.0001,0.0000001,0.00001]\n",
    "models = {}\n",
    "\n",
    "for lr in learning_rates:\n",
    "    print (\"训练模型所用学习率：\" + str(lr))\n",
    "    models[str(lr)] = model(train_set_x, train_set_y, test_set_x, test_set_y, num_iterations=15000, learning_rate=lr, print_cost=False)\n",
    "    print ('\\n' + \"-------------------------------------------------------\" + '\\n')\n",
    "\n",
    "for lr in learning_rates:\n",
    "    plt.plot(np.squeeze(models[str(lr)][\"costs\"]), label=str(models[str(lr)][\"learning_rate\"]))\n",
    "\n",
    "plt.ylabel('cost')\n",
    "plt.xlabel('iterations (hundreds)')\n",
    "\n",
    "legend = plt.legend(loc='upper center', shadow=True)\n",
    "frame = legend.get_frame()\n",
    "frame.set_facecolor('0.90')\n",
    "plt.show()"
   ]
  },
  {
   "cell_type": "code",
   "execution_count": 26,
   "id": "a39efb8c",
   "metadata": {},
   "outputs": [
    {
     "name": "stdout",
     "output_type": "stream",
     "text": [
      "训练模型所用学习率：0.01\n",
      "\n",
      "-------------------------------------------------------\n",
      "\n",
      "训练模型所用学习率：0.001\n",
      "\n",
      "-------------------------------------------------------\n",
      "\n",
      "训练模型所用学习率：0.0001\n",
      "\n",
      "-------------------------------------------------------\n",
      "\n",
      "训练模型所用学习率：1e-07\n",
      "\n",
      "-------------------------------------------------------\n",
      "\n",
      "训练模型所用学习率：1e-05\n",
      "\n",
      "-------------------------------------------------------\n",
      "\n"
     ]
    },
    {
     "data": {
      "image/png": "[encoded data removed]",
      "text/plain": [
       "<Figure size 432x288 with 1 Axes>"
      ]
     },
     "metadata": {
      "needs_background": "light"
     },
     "output_type": "display_data"
    }
   ],
   "source": [
    "learning_rates = [0.01, 0.001, 0.0001,0.0000001,0.00001]\n",
    "models = {}\n",
    "\n",
    "for lr in learning_rates:\n",
    "    print (\"训练模型所用学习率：\" + str(lr))\n",
    "    models[str(lr)] = model(train_set_x, train_set_y, test_set_x, test_set_y, num_iterations=30000, learning_rate=lr, print_cost=False)\n",
    "    print ('\\n' + \"-------------------------------------------------------\" + '\\n')\n",
    "\n",
    "for lr in learning_rates:\n",
    "    plt.plot(np.squeeze(models[str(lr)][\"costs\"]), label=str(models[str(lr)][\"learning_rate\"]))\n",
    "\n",
    "plt.ylabel('cost')\n",
    "plt.xlabel('iterations (hundreds)')\n",
    "\n",
    "legend = plt.legend(loc='upper center', shadow=True)\n",
    "frame = legend.get_frame()\n",
    "frame.set_facecolor('0.90')\n",
    "plt.show()"
   ]
  },
  {
   "cell_type": "markdown",
   "id": "cd199544",
   "metadata": {},
   "source": [
    "**提示**: \n",
    "- 不同的学习率会给出的代价函数值不同因此预测结果也不同\n",
    "- 如果学习率太大，那么代价函数值在迭代过程中可能会发生震荡，甚至会反向变化(代价函数值变高了)\n",
    "- 模型不是代价值越低越好，你还得检查是否过拟合(训练集精确度远高于测试集精确度时很容易发生)\n",
    "- 在深度学习中，我们经常建议您\n",
    "    - 选择一个能够 更好地减小代价值 的学习率\n",
    "    - 如果你的模型过拟合，那么用其他的技术来减少过拟合(随后的视频中我们会谈到)"
   ]
  },
  {
   "cell_type": "markdown",
   "id": "7477fc24",
   "metadata": {},
   "source": [
    "<a name='7'></a>\n",
    "## 7 - 测试用户图片 (可选/晋升 练习) ##\n",
    "\n",
    "恭喜你完成任务，你可以用自己的图像来进行预测\n",
    "\n",
    "如何做呢？\n",
    "\n",
    "    1. 点击\"File\"按钮来上传图片文件\n",
    "    2. 修改`my_image`变量为图片的绝对/相对路径\n",
    "    3. 运行代码，查看结果(1 = 是猫，0 = 不是猫)"
   ]
  },
  {
   "cell_type": "code",
   "execution_count": 27,
   "id": "0cf156ce",
   "metadata": {},
   "outputs": [
    {
     "name": "stdout",
     "output_type": "stream",
     "text": [
      "y = 0.0, your algorithm predicts a \"non-cat\" picture.\n"
     ]
    },
    {
     "data": {
      "image/png": "[encoded data removed]",
      "text/plain": [
       "<Figure size 432x288 with 1 Axes>"
      ]
     },
     "metadata": {
      "needs_background": "light"
     },
     "output_type": "display_data"
    }
   ],
   "source": [
    "# 改变上传文件的路径\n",
    "'''\n",
    "    本机已添加案例\n",
    "    识别准确案例：\n",
    "        my_image.jpg->wrong->正确，风景不是猫\n",
    "        my_image2.jpg->true->正确，一只猫\n",
    "    识别异常案例(准确率仍需提高)：\n",
    "        my_image2.jpg->true->错误，鸟不是猫\n",
    "'''\n",
    "\n",
    "my_image = \"my_image.jpg\"   \n",
    "\n",
    "# 预处理图片以应用算法\n",
    "fname = \"images/\" + my_image\n",
    "image = np.array(Image.open(fname).resize((num_px, num_px)))\n",
    "plt.imshow(image)\n",
    "image = image / 255.\n",
    "image = image.reshape((1, num_px * num_px * 3)).T\n",
    "my_predicted_image = predict(logistic_regression_model[\"w\"], logistic_regression_model[\"b\"], image)\n",
    "\n",
    "print(\"y = \" + str(np.squeeze(my_predicted_image)) + \", your algorithm predicts a \\\"\" + classes[int(np.squeeze(my_predicted_image)),].decode(\"utf-8\") +  \"\\\" picture.\")"
   ]
  },
  {
   "cell_type": "markdown",
   "id": "58dbc7e3",
   "metadata": {},
   "source": [
    "<font color='blue'>\n",
    "    \n",
    "**在这次任务中，我们要记住:**\n",
    "1. 数据集预处理非常重要\n",
    "2. 建立模型前你需要分别实现每一个辅助函数y: initialize(), propagate(), optimize(). Then you built a model()\n",
    "3. 调整学习率对算法有很大影响，你会在随后的课程中看到更多案例！"
   ]
  },
  {
   "cell_type": "markdown",
   "id": "a4783a72",
   "metadata": {},
   "source": [
    "最后，你还可以尝试以下内容：\n",
    "\n",
    "    - 调整学习率和迭代次数\n",
    "    - 尝试不同的初始化方法并比较结果\n",
    "    - 测试其他预处理工作(数据集中，或每行除标准差)"
   ]
  },
  {
   "cell_type": "markdown",
   "id": "f828f145",
   "metadata": {},
   "source": [
    "参考书目：\n",
    "\n",
    "- http://www.wildml.com/2015/09/implementing-a-neural-network-from-scratch/\n",
    "- https://stats.stackexchange.com/questions/211436/why-do-we-normalize-images-by-subtracting-the-datasets-image-mean-and-not-the-c"
   ]
  }
 ],
 "metadata": {
  "kernelspec": {
   "display_name": "Python 3",
   "language": "python",
   "name": "python3"
  },
  "language_info": {
   "codemirror_mode": {
    "name": "ipython",
    "version": 3
   },
   "file_extension": ".py",
   "mimetype": "text/x-python",
   "name": "python",
   "nbconvert_exporter": "python",
   "pygments_lexer": "ipython3",
   "version": "3.8.11"
  }
 },
 "nbformat": 4,
 "nbformat_minor": 5
}
